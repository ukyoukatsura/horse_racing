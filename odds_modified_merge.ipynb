{
 "cells": [
  {
   "cell_type": "code",
   "execution_count": 18,
   "metadata": {},
   "outputs": [],
   "source": [
    "#必要なライブラリをインポート\n",
    "import pandas as pd\n",
    "import codecs\n",
    "import numpy as np"
   ]
  },
  {
   "cell_type": "code",
   "execution_count": 19,
   "metadata": {
    "scrolled": false
   },
   "outputs": [
    {
     "name": "stderr",
     "output_type": "stream",
     "text": [
      "/home/uk/anaconda3/lib/python3.7/site-packages/IPython/core/interactiveshell.py:3058: DtypeWarning: Columns (0) have mixed types. Specify dtype option on import or set low_memory=False.\n",
      "  interactivity=interactivity, compiler=compiler, result=result)\n"
     ]
    }
   ],
   "source": [
    "with codecs.open(\"/home/uk/all_data/odds_process.csv\", \"r\", \"Shift-JIS\", \"ignore\") as file:\n",
    "    df_odds = pd.read_csv(file, delimiter=\",\", names=[\"レースID\",\"頭数\",\"時刻フラグ\",\"時刻\",\"馬番\",\"枠番\",\"馬名\",\"単勝オッズ\",\"複勝オッズ下限\",\"複勝オッズ上限\"])"
   ]
  },
  {
   "cell_type": "code",
   "execution_count": 20,
   "metadata": {
    "scrolled": true
   },
   "outputs": [
    {
     "name": "stdout",
     "output_type": "stream",
     "text": [
      "            レースID  頭数  時刻フラグ    時刻  馬番  枠番                  馬名  単勝オッズ  \\\n",
      "0       320141201  12      4         1   1                        5.8   \n",
      "1       320141202  12      4         2   2                        6.6   \n",
      "2       320141203  12      4         3   3                        4.5   \n",
      "3       320141204  12      4         4   4                      141.3   \n",
      "4       320141205  12      4         5   5                       27.9   \n",
      "...           ...  ..    ...   ...  ..  ..                 ...    ...   \n",
      "660479  807110112  16      4        12   6                        8.9   \n",
      "660480  807110113  16      4        13   7                      288.4   \n",
      "660481  807110114  16      4        14   7                       44.6   \n",
      "660482  807110115  16      4        15   8                      281.9   \n",
      "660483  807110116  16      4        16   8                       29.8   \n",
      "\n",
      "        複勝オッズ下限  複勝オッズ上限  \n",
      "0           1.7      2.3  \n",
      "1           2.0      2.8  \n",
      "2           1.5      2.1  \n",
      "3          17.3     26.0  \n",
      "4           7.2     10.7  \n",
      "...         ...      ...  \n",
      "660479      2.0      3.4  \n",
      "660480     39.9     79.4  \n",
      "660481      6.7     13.0  \n",
      "660482     42.2     83.9  \n",
      "660483      5.4     10.3  \n",
      "\n",
      "[660484 rows x 10 columns]\n"
     ]
    }
   ],
   "source": [
    "\n",
    "print(df_odds)"
   ]
  }
 ],
 "metadata": {
  "kernelspec": {
   "display_name": "Python 3",
   "language": "python",
   "name": "python3"
  },
  "language_info": {
   "codemirror_mode": {
    "name": "ipython",
    "version": 3
   },
   "file_extension": ".py",
   "mimetype": "text/x-python",
   "name": "python",
   "nbconvert_exporter": "python",
   "pygments_lexer": "ipython3",
   "version": "3.7.4"
  }
 },
 "nbformat": 4,
 "nbformat_minor": 2
}
