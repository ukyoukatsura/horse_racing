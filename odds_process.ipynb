{
 "cells": [
  {
   "cell_type": "code",
   "execution_count": 1,
   "metadata": {},
   "outputs": [],
   "source": [
    "#必要なライブラリをインポート\n",
    "import pandas as pd\n",
    "import codecs\n",
    "import numpy as np"
   ]
  },
  {
   "cell_type": "code",
   "execution_count": 2,
   "metadata": {
    "scrolled": false
   },
   "outputs": [
    {
     "name": "stderr",
     "output_type": "stream",
     "text": [
      "/home/uk/anaconda3/lib/python3.7/site-packages/IPython/core/interactiveshell.py:3058: DtypeWarning: Columns (0) have mixed types. Specify dtype option on import or set low_memory=False.\n",
      "  interactivity=interactivity, compiler=compiler, result=result)\n"
     ]
    }
   ],
   "source": [
    "with codecs.open(\"/home/uk/all_data/Odds2007-20200419.csv\", \"r\", \"Shift-JIS\", \"ignore\") as file:\n",
    "    df_odds = pd.read_csv(file, delimiter=\",\",header=None)"
   ]
  },
  {
   "cell_type": "code",
   "execution_count": 3,
   "metadata": {
    "scrolled": true
   },
   "outputs": [
    {
     "name": "stdout",
     "output_type": "stream",
     "text": [
      "              0    1    2     3    4    5                   6      7     8    \\\n",
      "0       320141201   12    4          1    1                        5.8   1.7   \n",
      "1       320141202   12    4          2    2                        6.6   2.0   \n",
      "2       320141203   12    4          3    3                        4.5   1.5   \n",
      "3       320141204   12    4          4    4                      141.3  17.3   \n",
      "4       320141205   12    4          5    5                       27.9   7.2   \n",
      "...           ...  ...  ...   ...  ...  ...                 ...    ...   ...   \n",
      "660479  807110112   16    4         12    6                        8.9   2.0   \n",
      "660480  807110113   16    4         13    7                      288.4  39.9   \n",
      "660481  807110114   16    4         14    7                       44.6   6.7   \n",
      "660482  807110115   16    4         15    8                      281.9  42.2   \n",
      "660483  807110116   16    4         16    8                       29.8   5.4   \n",
      "\n",
      "         9    ...      217      218  219  220      221  222  223  224  225  \\\n",
      "0        2.3  ...      0.0      0.0  0.0  0.0      0.0  0.0  0.0  0.0  0.0   \n",
      "1        2.8  ...      0.0      0.0  0.0  0.0      0.0  0.0  0.0  0.0  0.0   \n",
      "2        2.1  ...      0.0      0.0  0.0  0.0      0.0  0.0  0.0  0.0  0.0   \n",
      "3       26.0  ...      0.0      0.0  0.0  0.0      0.0  0.0  0.0  0.0  0.0   \n",
      "4       10.7  ...      0.0      0.0  0.0  0.0      0.0  0.0  0.0  0.0  0.0   \n",
      "...      ...  ...      ...      ...  ...  ...      ...  ...  ...  ...  ...   \n",
      "660479   3.4  ...  10771.9   1316.2  0.0  0.0   7181.3  0.0  0.0  0.0  0.0   \n",
      "660480  79.4  ...  37211.9  12594.8  0.0  0.0  32746.4  0.0  0.0  0.0  0.0   \n",
      "660481  13.0  ...  37211.9  12594.8  0.0  0.0   9409.9  0.0  0.0  0.0  0.0   \n",
      "660482  83.9  ...  37211.9  32746.4  0.0  0.0   9409.9  0.0  0.0  0.0  0.0   \n",
      "660483  10.3  ...  12594.8  32746.4  0.0  0.0   9409.9  0.0  0.0  0.0  0.0   \n",
      "\n",
      "        226  \n",
      "0       0.0  \n",
      "1       0.0  \n",
      "2       0.0  \n",
      "3       0.0  \n",
      "4       0.0  \n",
      "...     ...  \n",
      "660479  0.0  \n",
      "660480  0.0  \n",
      "660481  0.0  \n",
      "660482  0.0  \n",
      "660483  0.0  \n",
      "\n",
      "[660484 rows x 227 columns]\n"
     ]
    }
   ],
   "source": [
    "print(df_odds)"
   ]
  },
  {
   "cell_type": "code",
   "execution_count": 4,
   "metadata": {
    "scrolled": true
   },
   "outputs": [
    {
     "name": "stdout",
     "output_type": "stream",
     "text": [
      "                0   1  2     3   4  5                   6      7     8     9\n",
      "0       320141201  12  4         1  1                        5.8   1.7   2.3\n",
      "1       320141202  12  4         2  2                        6.6   2.0   2.8\n",
      "2       320141203  12  4         3  3                        4.5   1.5   2.1\n",
      "3       320141204  12  4         4  4                      141.3  17.3  26.0\n",
      "4       320141205  12  4         5  5                       27.9   7.2  10.7\n",
      "...           ...  .. ..   ...  .. ..                 ...    ...   ...   ...\n",
      "660479  807110112  16  4        12  6                        8.9   2.0   3.4\n",
      "660480  807110113  16  4        13  7                      288.4  39.9  79.4\n",
      "660481  807110114  16  4        14  7                       44.6   6.7  13.0\n",
      "660482  807110115  16  4        15  8                      281.9  42.2  83.9\n",
      "660483  807110116  16  4        16  8                       29.8   5.4  10.3\n",
      "\n",
      "[660484 rows x 10 columns]\n"
     ]
    }
   ],
   "source": [
    "df_odds_modified = df_odds.iloc[:, 0:10]\n",
    "print(df_odds_modified)"
   ]
  },
  {
   "cell_type": "code",
   "execution_count": 5,
   "metadata": {},
   "outputs": [],
   "source": [
    "df_odds_modified.to_csv(\"./odds_process.csv\", header=False, index=False)"
   ]
  }
 ],
 "metadata": {
  "kernelspec": {
   "display_name": "Python 3",
   "language": "python",
   "name": "python3"
  },
  "language_info": {
   "codemirror_mode": {
    "name": "ipython",
    "version": 3
   },
   "file_extension": ".py",
   "mimetype": "text/x-python",
   "name": "python",
   "nbconvert_exporter": "python",
   "pygments_lexer": "ipython3",
   "version": "3.7.4"
  }
 },
 "nbformat": 4,
 "nbformat_minor": 2
}
